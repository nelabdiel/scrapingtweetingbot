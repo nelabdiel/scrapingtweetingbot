{
 "cells": [
  {
   "cell_type": "code",
   "execution_count": null,
   "metadata": {
    "collapsed": true
   },
   "outputs": [],
   "source": [
    "# Importing graphics related libraries\n",
    "\n",
    "# importing useful libraries\n",
    "import simplejson  # more efficient than the default json library\n",
    "import sys\n",
    "import requests  # better than the urllib libraries\n",
    "from requests_oauthlib import OAuth1\n",
    "from collections import Counter\n",
    "import heapq\n",
    "from nltk.corpus import stopwords\n",
    "from itertools import islice, chain\n",
    "import numpy as np\n",
    "from twython import Twython\n",
    "import time"
   ]
  },
  {
   "cell_type": "code",
   "execution_count": null,
   "metadata": {
    "collapsed": false
   },
   "outputs": [],
   "source": [
    "with open(\"twitter_secrets2.json.nogit\") as fh:\n",
    "    secrets = simplejson.loads(fh.read())\n",
    "\n",
    "auth = OAuth1(\n",
    "    secrets[\"api_key\"],\n",
    "    secrets[\"api_secret\"],\n",
    "    secrets[\"access_token\"],\n",
    "    secrets[\"access_token_secret\"]\n",
    ")\n",
    "\n",
    "US_BOUNDING_BOX = \"-125.00,24.94,-66.93,49.59\"\n",
    "def tweet_generator():\n",
    "    \"\"\" Generator that live streams tweets (see 'yield' keyword)\"\"\"\n",
    "    stream = requests.post('https://stream.twitter.com/1.1/statuses/filter.json',\n",
    "                         auth=auth,\n",
    "                         stream=True,\n",
    "                         data={\"locations\" : US_BOUNDING_BOX})\n",
    "    \n",
    "    for line in stream.iter_lines():\n",
    "        if not line:  # filter out keep-alive new lines\n",
    "            continue\n",
    "        tweet = simplejson.loads(line)\n",
    "        if 'text' in tweet:\n",
    "            yield tweet['text']\n",
    "            \n",
    "api = Twython(secrets[\"api_key\"],secrets[\"api_secret\"],secrets[\"access_token\"],secrets[\"access_token_secret\"])            "
   ]
  },
  {
   "cell_type": "code",
   "execution_count": null,
   "metadata": {
    "collapsed": false
   },
   "outputs": [],
   "source": [
    "stop = set(stopwords.words('english'))  # predefined list of \"uninteresting\" words\n",
    "\n",
    "\n",
    "\n",
    "counter = Counter()\n",
    "\n",
    "\n",
    "\n",
    "def nlargest(n, word_scores):\n",
    "\n",
    "    \"\"\" Wrapper around heapq to return the n words with the largest count.\"\"\"\n",
    "\n",
    "    # word_scores: index 0=>word, 1=>count\n",
    "\n",
    "    return heapq.nlargest(n, word_scores, key=lambda x: x[1])\n",
    "\n",
    "\n",
    "\n",
    "try:\n",
    "\n",
    "    # islice allows you to get some # of values out of a generator.\n",
    "\n",
    "    for k, tweet in enumerate(islice(tweet_generator(), 1000)):\n",
    "\n",
    "        for word in tweet.lower().split():  # lowercase, split by whitespace\n",
    "\n",
    "            if word not in stop:  # avoid uninteresting words\n",
    "\n",
    "                counter[word] += 1\n",
    "\n",
    "\n",
    "\n",
    "except KeyboardInterrupt:\n",
    "\n",
    "    pass\n",
    "\n",
    "finally:\n",
    "\n",
    "    L = np.array(nlargest(5, counter.items()))\n",
    "    M = str(L[0,0])\n",
    "    N = str(L[1,0])\n",
    "    O = str(L[2,0])\n",
    "    P = str(L[3,0])\n",
    "    Q = str(L[4,0])\n"
   ]
  },
  {
   "cell_type": "code",
   "execution_count": null,
   "metadata": {
    "collapsed": false
   },
   "outputs": [],
   "source": [
    "api.update_status(status=''+M+' '+N+' '+O+' '+P+' '+Q+'')\n",
    "time.sleep(86400)"
   ]
  },
  {
   "cell_type": "code",
   "execution_count": null,
   "metadata": {
    "collapsed": true
   },
   "outputs": [],
   "source": []
  }
 ],
 "metadata": {
  "kernelspec": {
   "display_name": "Python 3",
   "language": "python",
   "name": "python3"
  },
  "language_info": {
   "codemirror_mode": {
    "name": "ipython",
    "version": 3
   },
   "file_extension": ".py",
   "mimetype": "text/x-python",
   "name": "python",
   "nbconvert_exporter": "python",
   "pygments_lexer": "ipython3",
   "version": "3.4.3"
  }
 },
 "nbformat": 4,
 "nbformat_minor": 0
}
