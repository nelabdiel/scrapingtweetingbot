{
 "cells": [
  {
   "cell_type": "code",
   "execution_count": 5,
   "metadata": {
    "collapsed": true
   },
   "outputs": [],
   "source": [
    "# Importing graphics related libraries\n",
    "\n",
    "# importing useful libraries\n",
    "import simplejson  # more efficient than the default json library\n",
    "import sys\n",
    "import requests  # better than the urllib libraries\n",
    "from requests_oauthlib import OAuth1\n",
    "from collections import Counter\n",
    "import heapq\n",
    "from nltk.corpus import stopwords\n",
    "from itertools import islice, chain\n",
    "import numpy as np\n",
    "from twython import Twython\n",
    "import time"
   ]
  },
  {
   "cell_type": "code",
   "execution_count": 6,
   "metadata": {
    "collapsed": false
   },
   "outputs": [],
   "source": [
    "with open(\"twitter_secrets2.json.nogit\") as fh:\n",
    "    secrets = simplejson.loads(fh.read())\n",
    "\n",
    "auth = OAuth1(\n",
    "    secrets[\"api_key\"],\n",
    "    secrets[\"api_secret\"],\n",
    "    secrets[\"access_token\"],\n",
    "    secrets[\"access_token_secret\"]\n",
    ")\n",
    "\n",
    "US_BOUNDING_BOX = \"-125.00,24.94,-66.93,49.59\"\n",
    "def tweet_generator():\n",
    "    \"\"\" Generator that live streams tweets (see 'yield' keyword)\"\"\"\n",
    "    stream = requests.post('https://stream.twitter.com/1.1/statuses/filter.json',\n",
    "                         auth=auth,\n",
    "                         stream=True,\n",
    "                         data={\"locations\" : US_BOUNDING_BOX})\n",
    "    \n",
    "    for line in stream.iter_lines():\n",
    "        if not line:  # filter out keep-alive new lines\n",
    "            continue\n",
    "        tweet = simplejson.loads(line)\n",
    "        if 'text' in tweet:\n",
    "            yield tweet['text']\n",
    "            \n",
    "api = Twython(secrets[\"api_key\"],secrets[\"api_secret\"],secrets[\"access_token\"],secrets[\"access_token_secret\"])            "
   ]
  },
  {
   "cell_type": "code",
   "execution_count": 7,
   "metadata": {
    "collapsed": false
   },
   "outputs": [],
   "source": [
    "stop = set(stopwords.words('english'))  # predefined list of \"uninteresting\" words\n",
    "\n",
    "\n",
    "\n",
    "counter = Counter()\n",
    "\n",
    "\n",
    "\n",
    "def nlargest(n, word_scores):\n",
    "\n",
    "    \"\"\" Wrapper around heapq to return the n words with the largest count.\"\"\"\n",
    "\n",
    "    # word_scores: index 0=>word, 1=>count\n",
    "\n",
    "    return heapq.nlargest(n, word_scores, key=lambda x: x[1])\n",
    "\n",
    "\n",
    "\n",
    "try:\n",
    "\n",
    "    # islice allows you to get some # of values out of a generator.\n",
    "\n",
    "    for k, tweet in enumerate(islice(tweet_generator(), 1000)):\n",
    "\n",
    "        for word in tweet.lower().split():  # lowercase, split by whitespace\n",
    "\n",
    "            if word not in stop:  # avoid uninteresting words\n",
    "\n",
    "                counter[word] += 1\n",
    "\n",
    "\n",
    "\n",
    "except KeyboardInterrupt:\n",
    "\n",
    "    pass\n",
    "\n",
    "finally:\n",
    "\n",
    "    L = np.array(nlargest(5, counter.items()))\n",
    "    M = str(L[0,0])\n",
    "    N = str(L[1,0])\n",
    "    O = str(L[2,0])\n",
    "    P = str(L[3,0])\n",
    "    Q = str(L[4,0])\n"
   ]
  },
  {
   "cell_type": "code",
   "execution_count": 4,
   "metadata": {
    "collapsed": false
   },
   "outputs": [
    {
     "data": {
      "text/plain": [
       "{'contributors': None,\n",
       " 'coordinates': None,\n",
       " 'created_at': 'Sun Oct 18 16:28:06 +0000 2015',\n",
       " 'entities': {'hashtags': [{'indices': [2, 9], 'text': 'hiring'},\n",
       "   {'indices': [14, 18], 'text': 'job'}],\n",
       "  'symbols': [],\n",
       "  'urls': [],\n",
       "  'user_mentions': []},\n",
       " 'favorite_count': 0,\n",
       " 'favorited': False,\n",
       " 'geo': None,\n",
       " 'id': 655782414938058752,\n",
       " 'id_str': '655782414938058752',\n",
       " 'in_reply_to_screen_name': None,\n",
       " 'in_reply_to_status_id': None,\n",
       " 'in_reply_to_status_id_str': None,\n",
       " 'in_reply_to_user_id': None,\n",
       " 'in_reply_to_user_id_str': None,\n",
       " 'is_quote_status': False,\n",
       " 'lang': 'und',\n",
       " 'place': None,\n",
       " 'retweet_count': 0,\n",
       " 'retweeted': False,\n",
       " 'source': '<a href=\"http://www.nelabdiel.com\" rel=\"nofollow\">NelAbdielBot</a>',\n",
       " 'text': \"@ #hiring i'm #job -\",\n",
       " 'truncated': False,\n",
       " 'user': {'contributors_enabled': False,\n",
       "  'created_at': 'Sun Oct 11 15:57:29 +0000 2015',\n",
       "  'default_profile': False,\n",
       "  'default_profile_image': False,\n",
       "  'description': \"I don't need Nel Abdiel.\",\n",
       "  'entities': {'description': {'urls': []}},\n",
       "  'favourites_count': 1,\n",
       "  'follow_request_sent': False,\n",
       "  'followers_count': 12,\n",
       "  'following': False,\n",
       "  'friends_count': 16,\n",
       "  'geo_enabled': False,\n",
       "  'has_extended_profile': False,\n",
       "  'id': 3859952232,\n",
       "  'id_str': '3859952232',\n",
       "  'is_translation_enabled': False,\n",
       "  'is_translator': False,\n",
       "  'lang': 'en',\n",
       "  'listed_count': 7,\n",
       "  'location': \"Nel's livingroom.\",\n",
       "  'name': 'Nel Abdiel Bot',\n",
       "  'notifications': False,\n",
       "  'profile_background_color': '000000',\n",
       "  'profile_background_image_url': 'http://abs.twimg.com/images/themes/theme1/bg.png',\n",
       "  'profile_background_image_url_https': 'https://abs.twimg.com/images/themes/theme1/bg.png',\n",
       "  'profile_background_tile': False,\n",
       "  'profile_banner_url': 'https://pbs.twimg.com/profile_banners/3859952232/1444619179',\n",
       "  'profile_image_url': 'http://pbs.twimg.com/profile_images/653272225387147264/DbCv0IL2_normal.jpg',\n",
       "  'profile_image_url_https': 'https://pbs.twimg.com/profile_images/653272225387147264/DbCv0IL2_normal.jpg',\n",
       "  'profile_link_color': '3B94D9',\n",
       "  'profile_sidebar_border_color': '000000',\n",
       "  'profile_sidebar_fill_color': '000000',\n",
       "  'profile_text_color': '000000',\n",
       "  'profile_use_background_image': False,\n",
       "  'protected': False,\n",
       "  'screen_name': 'nelabdielbot',\n",
       "  'statuses_count': 161,\n",
       "  'time_zone': None,\n",
       "  'url': None,\n",
       "  'utc_offset': None,\n",
       "  'verified': False}}"
      ]
     },
     "execution_count": 4,
     "metadata": {},
     "output_type": "execute_result"
    }
   ],
   "source": [
    "api.update_status(status=''+M+' '+N+' '+O+' '+P+' '+Q+'')\n",
    "time.sleep(86400)"
   ]
  },
  {
   "cell_type": "code",
   "execution_count": null,
   "metadata": {
    "collapsed": true
   },
   "outputs": [],
   "source": []
  }
 ],
 "metadata": {
  "kernelspec": {
   "display_name": "Python 3",
   "language": "python",
   "name": "python3"
  },
  "language_info": {
   "codemirror_mode": {
    "name": "ipython",
    "version": 3
   },
   "file_extension": ".py",
   "mimetype": "text/x-python",
   "name": "python",
   "nbconvert_exporter": "python",
   "pygments_lexer": "ipython3",
   "version": "3.4.3"
  }
 },
 "nbformat": 4,
 "nbformat_minor": 0
}
